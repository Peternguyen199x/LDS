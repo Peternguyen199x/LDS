{
 "cells": [
  {
   "cell_type": "code",
   "execution_count": 1,
   "metadata": {},
   "outputs": [
    {
     "name": "stdout",
     "output_type": "stream",
     "text": [
      "---------------------------------\n",
      "1) Tra XUÔI bảng Z\n",
      "---------------------------------\n",
      "P(Z < 1.2) = 0.8849\n",
      "P(Z < -0.71) = 0.2389\n",
      "P(0 < Z < 0.83) = 0.2967\n",
      "P(-1.57 < Z < 0) = 0.4418\n",
      "P(0.44 < Z) = 0.3300\n",
      "P(-0.23 < Z) = 0.5910\n",
      "---------------------------------\n",
      "2) Tra NGƯỢC bảng Z\n",
      "---------------------------------\n",
      "p = 0.2119 --> z-score = -0.80\n",
      "p = 0.9948 --> z-score = 2.56\n",
      "p = 0.9030 --> z-score = 1.66\n",
      "p = 0.2052 --> z-score = 0.26\n",
      "p = 0.6915 --> z-score = -0.50\n"
     ]
    }
   ],
   "source": [
    "\"\"\"=============================================================================\n",
    "    1) Tra XUÔI bảng Z (slide #137)\n",
    "        a) P(Z < z)\n",
    "        b) P(z < Z)\n",
    "        c) P(a < Z < b)\n",
    "\n",
    "    2) Tra NGƯỢC bảng Z (slide #139)\n",
    "        d) Xs suy ra giá trị z-score\n",
    "=============================================================================\"\"\"\n",
    "\n",
    "'''-----------------------------------------------------------------------------\n",
    "   Hàm tính xác suất theo phân phối Z (tra XUÔI bảng Z)\n",
    "-----------------------------------------------------------------------------'''\n",
    "def zDistribution(side, lower, upper):\n",
    "    import scipy.stats as st\n",
    "\n",
    "    side = side.lower()\n",
    "    \n",
    "    if (side == 'left'):\n",
    "        p = st.norm.cdf(lower)\n",
    "    elif (side == 'right'):\n",
    "        p = 1 - st.norm.cdf(upper)\n",
    "    else:\n",
    "        p = st.norm.cdf(upper) - st.norm.cdf(lower)       \n",
    "    return (p)\n",
    "\n",
    "'''-----------------------------------------------------------------------------\n",
    "   Hàm tìm z-score khi biết xác suất (tra NGƯỢC bảng Z)\n",
    "-----------------------------------------------------------------------------'''\n",
    "def p2z(side, p):\n",
    "    import scipy.stats as st\n",
    "\n",
    "    side = side.lower()\n",
    "    \n",
    "    if (side == 'left'):\n",
    "        z = st.norm.ppf(p)\n",
    "    elif (side == 'right'):\n",
    "        z = p2z('left', 1 - p)\n",
    "    else:\n",
    "        z = p2z('left', 0.5 + (p / 2))\n",
    "    return (z)\n",
    "\n",
    "'''-----------------------------------------------------------------------------\n",
    "   Hàm hiển thị xác suất\n",
    "-----------------------------------------------------------------------------'''\n",
    "def displayZ(side, lower, upper, p):\n",
    "    side = side.lower()\n",
    "    lower = str(lower)\n",
    "    upper = str(upper)\n",
    "    if (side == 'left'):\n",
    "        s = 'P(Z < ' + lower + ') = '\n",
    "    elif (side == 'right'):\n",
    "        s = 'P(' + upper + ' < Z) = '\n",
    "    else:\n",
    "        s = 'P(' + lower + ' < Z < ' + upper + ') = '\n",
    "    return (s + str('%.4f' %p))\n",
    "\n",
    "\n",
    "\n",
    "print('---------------------------------')\n",
    "print('1) Tra XUÔI bảng Z')\n",
    "print('---------------------------------')\n",
    "import numpy as np\n",
    "\n",
    "side  = np.array(['left', 'left', '2-side', '2-side', 'right', 'right'])\n",
    "lower = np.array([1.2, -0.71, 0, -1.57, None, None])\n",
    "upper = np.array([None, None, 0.83, 0, 0.44, -0.23])\n",
    "\n",
    "for i in range(len(side)):\n",
    "    p = zDistribution(side[i], lower[i], upper[i])\n",
    "    print(displayZ(side[i], lower[i], upper[i], p))\n",
    "   \n",
    "print('---------------------------------')\n",
    "print('2) Tra NGƯỢC bảng Z')\n",
    "print('---------------------------------')\n",
    "side = np.array(['left', 'left', '2-side', '2-side', 'right'])\n",
    "p    = np.array([0.2119, 0.9948, 0.9030, 0.2052, 0.6915])\n",
    "for i in range(len(side)):\n",
    "    z = p2z(side[i], p[i])\n",
    "    print('p = %.4f' %p[i], '--> z-score = %.2f' %z)"
   ]
  },
  {
   "cell_type": "code",
   "execution_count": 7,
   "metadata": {},
   "outputs": [
    {
     "name": "stdout",
     "output_type": "stream",
     "text": [
      "\n",
      "Số liệu thống kê:\n",
      " DescribeResult(nobs=1000, minmax=(498080, 501316), mean=499994.83, variance=238061.2043043043, skewness=-0.19307729544452706, kurtosis=0.008489919507938204)\n",
      "P(X = 7) = 0.0000\n",
      "P(X = 7) = 0.0000 (PYTHON)\n"
     ]
    },
    {
     "data": {
      "image/png": "[encoded data removed]",
      "text/plain": [
       "<Figure size 432x288 with 1 Axes>"
      ]
     },
     "metadata": {
      "needs_background": "light"
     },
     "output_type": "display_data"
    }
   ],
   "source": [
    "\"\"\"=============================================================================\n",
    "    Slides #35 --> #37\n",
    "        n   : số lần thí nghiệm\n",
    "        p   : xác suất thành công\n",
    "        size: số mẫu thử\n",
    "=============================================================================\"\"\"\n",
    "import math\n",
    "import seaborn as sns\n",
    "\n",
    "from scipy.stats import binom\n",
    "from scipy.stats import stats\n",
    "\n",
    "# n đủ lớn, p = 0.5 ==> xấp xỉ phân phối chuẩn\n",
    "n    = 1000000\n",
    "p    = 0.5\n",
    "size = 1000\n",
    "probs = [0.3, 0.5, 0.8] \n",
    "# data_binom = [binom.rvs(n = n, p = p, size = size) for p in probs]\n",
    "data_binom = binom.rvs(n = n, p = p, size = size)\n",
    "\n",
    "ax = sns.distplot(data_binom, kde = False, color = 'blue',\n",
    "                  hist_kws = {'linewidth': 15, 'alpha':1})\n",
    "ax.set(xlabel = 'Binomial Distribution', ylabel = 'Frequency')\n",
    "\n",
    "print('\\nSố liệu thống kê:\\n', stats.describe(data_binom))\n",
    "\n",
    "# Thí nghiệm tung đồng xu: mặt sấp hoặc mặt ngửa\n",
    "#    - Giả sử tung một đồng xu 'công bằng' 12 lần. Tính xác suất để có 7 lần ngửa.\n",
    "#\n",
    "#    P_x_k = n!/(k!)(n - k)! x p^k x (1 - p)^(n - k)\n",
    "\n",
    "k = 7\n",
    "C_n_k = math.factorial(n)/(math.factorial(k) * math.factorial(n - k))\n",
    "P_X_k =  C_n_k * math.pow(p, k) * math.pow(1 - p, n - k)\n",
    "\n",
    "print('P(X = 7) = %.4f' %P_X_k)\n",
    "\n",
    "# Dùng hàm của python\n",
    "print('P(X = 7) = %.4f (PYTHON)' %binom.pmf(k, n, p, loc = 0))\n"
   ]
  },
  {
   "cell_type": "code",
   "execution_count": null,
   "metadata": {},
   "outputs": [],
   "source": []
  }
 ],
 "metadata": {
  "kernelspec": {
   "display_name": "Python 3",
   "language": "python",
   "name": "python3"
  },
  "language_info": {
   "codemirror_mode": {
    "name": "ipython",
    "version": 3
   },
   "file_extension": ".py",
   "mimetype": "text/x-python",
   "name": "python",
   "nbconvert_exporter": "python",
   "pygments_lexer": "ipython3",
   "version": "3.6.8"
  }
 },
 "nbformat": 4,
 "nbformat_minor": 4
}
