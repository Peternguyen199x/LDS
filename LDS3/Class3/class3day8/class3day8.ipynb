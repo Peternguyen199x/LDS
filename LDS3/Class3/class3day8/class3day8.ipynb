{
 "cells": [
  {
   "cell_type": "code",
   "execution_count": 3,
   "metadata": {},
   "outputs": [
    {
     "name": "stdout",
     "output_type": "stream",
     "text": [
      "=======================================================================\n",
      "*** 1) Tính SEM của sample distribution: std = 38, sample size = 45.***\n",
      "=======================================================================\n",
      "SEM = 5.664706 \n",
      "\n",
      "=======================================================================\n",
      "*** 2) Tính SEM của dữ liệu sau: 14, 8, 11, 12, 16, 10.             ***\n",
      "=======================================================================\n",
      "2.608745973749755\n",
      "SEM = 1.065016 \n",
      "\n",
      "=======================================================================\n",
      "*** 3) Một số điểm IQ như sau: 96, 104, 126, 134, 140. Tính SEM.    ***\n",
      "=======================================================================\n",
      "17.11139970896595\n",
      "SEM = 6.985700 \n",
      "\n"
     ]
    }
   ],
   "source": [
    "\"\"\"=============================================================================\n",
    "Ex1:\n",
    "    Câu 1: SEM \n",
    "        1) Tính SEM của sample distribution với std = 38 và sample size là 45.\n",
    "        2) Tính SEM của dữ liệu sau: 14, 8, 11, 12, 16, 10\n",
    "        3) Một số điểm IQ như sau: 96, 104, 126, 134, 140. Tính SEM.\n",
    "=============================================================================\"\"\"\n",
    "# Tham khảo: https://math.tutorvista.com/algebra/standard-error-of-the-mean.html\n",
    "import numpy  as np\n",
    "\n",
    "print('=======================================================================')\n",
    "print('*** 1) Tính SEM của sample distribution: std = 38, sample size = 45.***')\n",
    "print('=======================================================================')\n",
    "std = 38\n",
    "n   = 45\n",
    "SEM = std / (n**0.5)\n",
    "print('SEM = %f \\n' %SEM)\n",
    "\n",
    "print('=======================================================================')\n",
    "print('*** 2) Tính SEM của dữ liệu sau: 14, 8, 11, 12, 16, 10.             ***')\n",
    "print('=======================================================================')\n",
    "data = np.array([14, 8, 11, 12, 16, 10])\n",
    "std  = np.std(data)\n",
    "print(std)\n",
    "SEM = std / (data.size**0.5)\n",
    "print('SEM = %f \\n' %SEM)\n",
    "      \n",
    "print('=======================================================================')\n",
    "print('*** 3) Một số điểm IQ như sau: 96, 104, 126, 134, 140. Tính SEM.    ***')\n",
    "print('=======================================================================')\n",
    "IQ  = np.array([96, 104, 126, 134, 140])\n",
    "std = np.std(IQ)\n",
    "print(std)\n",
    "SEM = std / (data.size**0.5)\n",
    "print('SEM = %f \\n' %SEM)"
   ]
  },
  {
   "cell_type": "code",
   "execution_count": null,
   "metadata": {},
   "outputs": [],
   "source": []
  }
 ],
 "metadata": {
  "kernelspec": {
   "display_name": "Python 3",
   "language": "python",
   "name": "python3"
  },
  "language_info": {
   "codemirror_mode": {
    "name": "ipython",
    "version": 3
   },
   "file_extension": ".py",
   "mimetype": "text/x-python",
   "name": "python",
   "nbconvert_exporter": "python",
   "pygments_lexer": "ipython3",
   "version": "3.6.8"
  }
 },
 "nbformat": 4,
 "nbformat_minor": 4
}
