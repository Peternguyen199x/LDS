{
 "cells": [
  {
   "cell_type": "markdown",
   "metadata": {},
   "source": [
    "# Câu 3. Thống kê mô tả"
   ]
  },
  {
   "cell_type": "code",
   "execution_count": 8,
   "metadata": {},
   "outputs": [],
   "source": [
    "from scipy.stats import hmean"
   ]
  },
  {
   "cell_type": "code",
   "execution_count": 14,
   "metadata": {},
   "outputs": [
    {
     "name": "stdout",
     "output_type": "stream",
     "text": [
      "Vận tốc trung bình của VĐV 1.74 m/s\n"
     ]
    }
   ],
   "source": [
    "# Gọi V là vận tốc bơi hỗn hợp 1 VĐV ở cự ly 200m sắp xếp theo thứ tự [bơi bướm, bơi ngửa, bơi ếch, bơi sải ] m/s\n",
    "V = [1.92, 1.67, 1.56, 1.85]\n",
    "\n",
    "# Vận tốc trung bình của VĐV\n",
    "aver_V = round(hmean(V),2)\n",
    "print(\"Vận tốc trung bình của VĐV\", aver_V, \"m/s\")"
   ]
  },
  {
   "cell_type": "code",
   "execution_count": null,
   "metadata": {},
   "outputs": [],
   "source": []
  }
 ],
 "metadata": {
  "kernelspec": {
   "display_name": "Python 3",
   "language": "python",
   "name": "python3"
  },
  "language_info": {
   "codemirror_mode": {
    "name": "ipython",
    "version": 3
   },
   "file_extension": ".py",
   "mimetype": "text/x-python",
   "name": "python",
   "nbconvert_exporter": "python",
   "pygments_lexer": "ipython3",
   "version": "3.7.6"
  }
 },
 "nbformat": 4,
 "nbformat_minor": 5
}
