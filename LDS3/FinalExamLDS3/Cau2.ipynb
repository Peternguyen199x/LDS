{
 "cells": [
  {
   "cell_type": "markdown",
   "metadata": {},
   "source": [
    "# Câu 2. Hồi quy tuyến tính"
   ]
  },
  {
   "cell_type": "markdown",
   "metadata": {},
   "source": [
    "## 2.1)"
   ]
  },
  {
   "cell_type": "code",
   "execution_count": 3,
   "metadata": {
    "scrolled": true
   },
   "outputs": [
    {
     "name": "stdout",
     "output_type": "stream",
     "text": [
      "[[8 8 7 8 8 8 7 8 6 8 8 7 8 8 8 8 7 8 6 8]]\n",
      "[[2.  8.4 7.6 3.  4.4 6.4 8.  2.8 5.2 6.4 7.6 5.  9.6 5.6 4.4 9.  3.6 4.8\n",
      "  6.  8.6]]\n",
      "[[7.  6.4 7.8 2.5 3.8 7.2 8.4 6.8 5.  8.9 9.2 5.4 8.7 7.4 7.2 9.2 6.3 8.1\n",
      "  5.2 6.7]]\n",
      "[[7 8 8 6 6 7 8 6 7 7 7 7 9 6 6 8 6 6 7 8]]\n",
      "[[1.4 4.  5.2 6.4 1.  5.6 4.4 0.4 5.  2.4 3.6 4.8 7.2 2.  3.6 5.6 7.  2.4\n",
      "  1.6 8. ]]\n",
      "[[ 68 137 135  79 107 128 120  74 110 134 139 110 140 115  88 128 120 113\n",
      "  121 138]]\n"
     ]
    },
    {
     "data": {
      "image/png": "[encoded data removed]",
      "text/plain": [
       "<Figure size 720x720 with 1 Axes>"
      ]
     },
     "metadata": {
      "needs_background": "light"
     },
     "output_type": "display_data"
    }
   ],
   "source": [
    "import numpy             as np\n",
    "import matplotlib.pyplot as plt\n",
    "import pandas            as pd\n",
    "import seaborn           as sns\n",
    "\n",
    "from numpy import mean, median\n",
    "from scipy import stats\n",
    "\n",
    "import os, sys\n",
    "import chapter4_lib as lib\n",
    "\n",
    "data2     = pd.read_excel('IQ5.xls')\n",
    "\n",
    "# print(\"Column headings:\")\n",
    "# print(data2.columns)\n",
    "# dataf = pd.DataFrame('IQ')\n",
    "# IQ = pd.DataFrame.columns\n",
    "diem1 = np.array([data2['diem_1']])\n",
    "print(diem1)\n",
    "diem2 = np.array([data2['diem_2']])\n",
    "print(diem2)\n",
    "diem3 = np.array([data2['diem_3']])\n",
    "print(diem3)\n",
    "diem4 = np.array([data2['diem_4']])\n",
    "print(diem4)\n",
    "diem5 = np.array([data2['diem_5']])\n",
    "print(diem5)\n",
    "IQ = np.array([data2['IQ']])\n",
    "print(IQ)\n",
    "\n",
    "plt.figure(figsize=(10,10))\n",
    "sns.boxplot(data = data2[['diem_1','diem_2','diem_3','diem_4','diem_5']])\n",
    "plt.xlabel(\"Quiz_number\")\n",
    "plt.ylabel(\"Score\")\n",
    "plt.show()\n",
    "# sns.boxplot(data = data2)"
   ]
  },
  {
   "cell_type": "code",
   "execution_count": 4,
   "metadata": {},
   "outputs": [
    {
     "name": "stdout",
     "output_type": "stream",
     "text": [
      "*** Những thống kê cơ bản trên dữ liệu  IQ ***\n",
      "================================================\n",
      "Mean   x_    = 115.2\n",
      "MIN    x_min = [ 68 137 135  79 107 128 120  74 110 134 139 110 140 115  88 128 120 113\n",
      " 121 138]\n",
      "MAX    x_max = [ 68 137 135  79 107 128 120  74 110 134 139 110 140 115  88 128 120 113\n",
      " 121 138]\n",
      "Median x_med = 120.0\n",
      "Mode   x_mod = [ 68 137 135  79 107 128 120  74 110 134 139 110 140 115  88 128 120 113\n",
      " 121 138]\n",
      "       f(x)  = [1 1 1 1 1 1 1 1 1 1 1 1 1 1 1 1 1 1 1 1]\n",
      "Range        = 72\n",
      "Variance     = 471.56000000000006\n",
      "Std-dev.     = 21.715432300555292\n",
      "***  Những thống kê cơ bản trên dữ liệu  diem_1 ***\n",
      "================================================\n",
      "Mean   x_    = 7.6\n",
      "MIN    x_min = [8 8 7 8 8 8 7 8 6 8 8 7 8 8 8 8 7 8 6 8]\n",
      "MAX    x_max = [8 8 7 8 8 8 7 8 6 8 8 7 8 8 8 8 7 8 6 8]\n",
      "Median x_med = 8.0\n",
      "Mode   x_mod = [8 8 7 8 8 8 7 8 6 8 8 7 8 8 8 8 7 8 6 8]\n",
      "       f(x)  = [1 1 1 1 1 1 1 1 1 1 1 1 1 1 1 1 1 1 1 1]\n",
      "Range        = 2\n",
      "Variance     = 0.43999999999999995\n",
      "Std-dev.     = 0.6633249580710799\n",
      "***  Những thống kê cơ bản trên dữ liệu  diem_2 ***\n",
      "================================================\n",
      "Mean   x_    = 5.92\n",
      "MIN    x_min = [2.  8.4 7.6 3.  4.4 6.4 8.  2.8 5.2 6.4 7.6 5.  9.6 5.6 4.4 9.  3.6 4.8\n",
      " 6.  8.6]\n",
      "MAX    x_max = [2.  8.4 7.6 3.  4.4 6.4 8.  2.8 5.2 6.4 7.6 5.  9.6 5.6 4.4 9.  3.6 4.8\n",
      " 6.  8.6]\n",
      "Median x_med = 5.8\n",
      "Mode   x_mod = [2.  8.4 7.6 3.  4.4 6.4 8.  2.8 5.2 6.4 7.6 5.  9.6 5.6 4.4 9.  3.6 4.8\n",
      " 6.  8.6]\n",
      "       f(x)  = [1 1 1 1 1 1 1 1 1 1 1 1 1 1 1 1 1 1 1 1]\n",
      "Range        = 7.6\n",
      "Variance     = 4.6575999999999995\n",
      "Std-dev.     = 2.1581473536345936\n",
      "***  Những thống kê cơ bản trên dữ liệu  diem_3 ***\n",
      "================================================\n",
      "Mean   x_    = 6.859999999999999\n",
      "MIN    x_min = [7.  6.4 7.8 2.5 3.8 7.2 8.4 6.8 5.  8.9 9.2 5.4 8.7 7.4 7.2 9.2 6.3 8.1\n",
      " 5.2 6.7]\n",
      "MAX    x_max = [7.  6.4 7.8 2.5 3.8 7.2 8.4 6.8 5.  8.9 9.2 5.4 8.7 7.4 7.2 9.2 6.3 8.1\n",
      " 5.2 6.7]\n",
      "Median x_med = 7.1\n",
      "Mode   x_mod = [7.  6.4 7.8 2.5 3.8 7.2 8.4 6.8 5.  8.9 9.2 5.4 8.7 7.4 7.2 9.2 6.3 8.1\n",
      " 5.2 6.7]\n",
      "       f(x)  = [1 1 1 1 1 1 1 1 1 1 1 1 1 1 1 1 1 1 1 1]\n",
      "Range        = 6.699999999999999\n",
      "Variance     = 3.0553999999999997\n",
      "Std-dev.     = 1.7479702514631077\n",
      "***  Những thống kê cơ bản trên dữ liệu  diem_4 ***\n",
      "================================================\n",
      "Mean   x_    = 7.0\n",
      "MIN    x_min = [7 8 8 6 6 7 8 6 7 7 7 7 9 6 6 8 6 6 7 8]\n",
      "MAX    x_max = [7 8 8 6 6 7 8 6 7 7 7 7 9 6 6 8 6 6 7 8]\n",
      "Median x_med = 7.0\n",
      "Mode   x_mod = [7 8 8 6 6 7 8 6 7 7 7 7 9 6 6 8 6 6 7 8]\n",
      "       f(x)  = [1 1 1 1 1 1 1 1 1 1 1 1 1 1 1 1 1 1 1 1]\n",
      "Range        = 3\n",
      "Variance     = 0.8\n",
      "Std-dev.     = 0.8944271909999159\n",
      "***  Những thống kê cơ bản trên dữ liệu  diem_5 ***\n",
      "================================================\n",
      "Mean   x_    = 4.08\n",
      "MIN    x_min = [1.4 4.  5.2 6.4 1.  5.6 4.4 0.4 5.  2.4 3.6 4.8 7.2 2.  3.6 5.6 7.  2.4\n",
      " 1.6 8. ]\n",
      "MAX    x_max = [1.4 4.  5.2 6.4 1.  5.6 4.4 0.4 5.  2.4 3.6 4.8 7.2 2.  3.6 5.6 7.  2.4\n",
      " 1.6 8. ]\n",
      "Median x_med = 4.2\n",
      "Mode   x_mod = [1.4 4.  5.2 6.4 1.  5.6 4.4 0.4 5.  2.4 3.6 4.8 7.2 2.  3.6 5.6 7.  2.4\n",
      " 1.6 8. ]\n",
      "       f(x)  = [1 1 1 1 1 1 1 1 1 1 1 1 1 1 1 1 1 1 1 1]\n",
      "Range        = 7.6\n",
      "Variance     = 4.6576\n",
      "Std-dev.     = 2.1581473536345936\n"
     ]
    }
   ],
   "source": [
    "print('*** Những thống kê cơ bản trên dữ liệu  IQ ***')\n",
    "print('================================================')\n",
    "print('Mean   x_    =', mean(IQ))\n",
    "print('MIN    x_min =', min(IQ))\n",
    "print('MAX    x_max =', max(IQ))\n",
    "print('Median x_med =', median(IQ))\n",
    "\n",
    "x_mod = stats.mode(IQ)\n",
    "print('Mode   x_mod =', x_mod[0][0])\n",
    "print('       f(x)  =', x_mod[1][0]) # số lần freq.\n",
    "\n",
    "range_life = np.ptp(IQ)\n",
    "print('Range        =', range_life)\n",
    "\n",
    "var_life = np.var(IQ)\n",
    "print('Variance     =', var_life)\n",
    "\n",
    "std_life = np.std(IQ)\n",
    "print('Std-dev.     =', std_life)\n",
    "\n",
    "print('***  Những thống kê cơ bản trên dữ liệu  diem_1 ***')\n",
    "print('================================================')\n",
    "print('Mean   x_    =', mean(diem1))\n",
    "print('MIN    x_min =', min(diem1))\n",
    "print('MAX    x_max =', max(diem1))\n",
    "print('Median x_med =', median(diem1))\n",
    "\n",
    "x_mod = stats.mode(diem1)\n",
    "print('Mode   x_mod =', x_mod[0][0])\n",
    "print('       f(x)  =', x_mod[1][0]) # số lần freq.\n",
    "\n",
    "range_life = np.ptp(diem1)\n",
    "print('Range        =', range_life)\n",
    "\n",
    "var_life = np.var(diem1)\n",
    "print('Variance     =', var_life)\n",
    "\n",
    "std_life = np.std(diem1)\n",
    "print('Std-dev.     =', std_life)\n",
    "\n",
    "print('***  Những thống kê cơ bản trên dữ liệu  diem_2 ***')\n",
    "print('================================================')\n",
    "print('Mean   x_    =', mean(diem2))\n",
    "print('MIN    x_min =', min(diem2))\n",
    "print('MAX    x_max =', max(diem2))\n",
    "print('Median x_med =', median(diem2))\n",
    "\n",
    "x_mod = stats.mode(diem2)\n",
    "print('Mode   x_mod =', x_mod[0][0])\n",
    "print('       f(x)  =', x_mod[1][0]) # số lần freq.\n",
    "\n",
    "range_life = np.ptp(diem2)\n",
    "print('Range        =', range_life)\n",
    "\n",
    "var_life = np.var(diem2)\n",
    "print('Variance     =', var_life)\n",
    "\n",
    "std_life = np.std(diem2)\n",
    "print('Std-dev.     =', std_life)\n",
    "\n",
    "print('***  Những thống kê cơ bản trên dữ liệu  diem_3 ***')\n",
    "print('================================================')\n",
    "print('Mean   x_    =', mean(diem3))\n",
    "print('MIN    x_min =', min(diem3))\n",
    "print('MAX    x_max =', max(diem3))\n",
    "print('Median x_med =', median(diem3))\n",
    "\n",
    "x_mod = stats.mode(diem3)\n",
    "print('Mode   x_mod =', x_mod[0][0])\n",
    "print('       f(x)  =', x_mod[1][0]) # số lần freq.\n",
    "\n",
    "range_life = np.ptp(diem3)\n",
    "print('Range        =', range_life)\n",
    "\n",
    "var_life = np.var(diem3)\n",
    "print('Variance     =', var_life)\n",
    "\n",
    "std_life = np.std(diem3)\n",
    "print('Std-dev.     =', std_life)\n",
    "\n",
    "print('***  Những thống kê cơ bản trên dữ liệu  diem_4 ***')\n",
    "print('================================================')\n",
    "print('Mean   x_    =', mean(diem4))\n",
    "print('MIN    x_min =', min(diem4))\n",
    "print('MAX    x_max =', max(diem4))\n",
    "print('Median x_med =', median(diem4))\n",
    "\n",
    "x_mod = stats.mode(diem4)\n",
    "print('Mode   x_mod =', x_mod[0][0])\n",
    "print('       f(x)  =', x_mod[1][0]) # số lần freq.\n",
    "\n",
    "range_life = np.ptp(diem4)\n",
    "print('Range        =', range_life)\n",
    "\n",
    "var_life = np.var(diem4)\n",
    "print('Variance     =', var_life)\n",
    "\n",
    "std_life = np.std(diem4)\n",
    "print('Std-dev.     =', std_life)\n",
    "\n",
    "print('***  Những thống kê cơ bản trên dữ liệu  diem_5 ***')\n",
    "print('================================================')\n",
    "print('Mean   x_    =', mean(diem5))\n",
    "print('MIN    x_min =', min(diem5))\n",
    "print('MAX    x_max =', max(diem5))\n",
    "print('Median x_med =', median(diem5))\n",
    "\n",
    "x_mod = stats.mode(diem5)\n",
    "print('Mode   x_mod =', x_mod[0][0])\n",
    "print('       f(x)  =', x_mod[1][0]) # số lần freq.\n",
    "\n",
    "range_life = np.ptp(diem5)\n",
    "print('Range        =', range_life)\n",
    "\n",
    "var_life = np.var(diem5)\n",
    "print('Variance     =', var_life)\n",
    "\n",
    "std_life = np.std(diem5)\n",
    "print('Std-dev.     =', std_life)\n"
   ]
  },
  {
   "cell_type": "code",
   "execution_count": 44,
   "metadata": {},
   "outputs": [
    {
     "name": "stdout",
     "output_type": "stream",
     "text": [
      "Z-scoresIQ:\n",
      " [-2.17356944  1.00389436  0.91179396 -1.66701724 -0.37761164  0.58944256\n",
      "  0.22104096 -1.89726824 -0.23946104  0.86574376  1.09599476 -0.23946104\n",
      "  1.14204496 -0.00921004 -1.25256544  0.58944256  0.22104096 -0.10131044\n",
      "  0.26709116  1.04994456]\n",
      "Z-scoresdiem1:\n",
      " [ 0.60302269  0.60302269 -0.90453403  0.60302269  0.60302269  0.60302269\n",
      " -0.90453403  0.60302269 -2.41209076  0.60302269  0.60302269 -0.90453403\n",
      "  0.60302269  0.60302269  0.60302269  0.60302269 -0.90453403  0.60302269\n",
      " -2.41209076  0.60302269]\n",
      "Z-scoresdiem2:\n",
      " [-1.81637273  1.14913377  0.77844546 -1.35301234 -0.70430779  0.22241299\n",
      "  0.96378961 -1.44568442 -0.33361948  0.22241299  0.77844546 -0.42629156\n",
      "  1.70516624 -0.14827532 -0.70430779  1.42715    -1.07499611 -0.51896364\n",
      "  0.03706883  1.24180585]\n",
      "Z-scoresdiem3:\n",
      " [ 0.0800929  -0.26316237  0.53776659 -2.49432163 -1.75060188  0.19451132\n",
      "  0.88102186 -0.03432553 -1.06409134  1.16706792  1.33869555 -0.83525449\n",
      "  1.05264949  0.30892974  0.19451132  1.33869555 -0.32037159  0.70939422\n",
      " -0.94967291 -0.09153474]\n",
      "Z-scoresdiem4:\n",
      " [ 0.          1.11803399  1.11803399 -1.11803399 -1.11803399  0.\n",
      "  1.11803399 -1.11803399  0.          0.          0.          0.\n",
      "  2.23606798 -1.11803399 -1.11803399  1.11803399 -1.11803399 -1.11803399\n",
      "  0.          1.11803399]\n",
      "Z-scoresdiem5:\n",
      " [-1.24180585 -0.03706883  0.51896364  1.07499611 -1.42715     0.70430779\n",
      "  0.14827532 -1.70516624  0.42629156 -0.77844546 -0.22241299  0.33361948\n",
      "  1.44568442 -0.96378961 -0.22241299  0.70430779  1.35301234 -0.77844546\n",
      " -1.14913377  1.81637273]\n"
     ]
    }
   ],
   "source": [
    "''' Nhận xét:\n",
    "    - diemToan không có outlier\n",
    "    - IQ và diemAV có outliers\n",
    "'''\n",
    "\n",
    "z_scoresdiemIQ = stats.zscore(data2[\"IQ\"])\n",
    "print('Z-scoresIQ:\\n', z_scoresdiemIQ)\n",
    "\n",
    "z_scoresdiem1 = stats.zscore(data2[\"diem_1\"])\n",
    "print('Z-scoresdiem1:\\n', z_scoresdiem1)\n",
    "\n",
    "z_scoresdiem2 = stats.zscore(data2[\"diem_2\"])\n",
    "print('Z-scoresdiem2:\\n', z_scoresdiem2)\n",
    "\n",
    "z_scoresdiem3 = stats.zscore(data2[\"diem_3\"])\n",
    "print('Z-scoresdiem3:\\n', z_scoresdiem3)\n",
    "\n",
    "z_scoresdiem4 = stats.zscore(data2[\"diem_4\"])\n",
    "print('Z-scoresdiem4:\\n', z_scoresdiem4)\n",
    "\n",
    "z_scoresdiem5 = stats.zscore(data2[\"diem_5\"])\n",
    "print('Z-scoresdiem5:\\n', z_scoresdiem5)\n",
    "\n",
    "for i in range (0,len(z_scoresdiemIQ)):\n",
    "    if -3>= z_scoresdiemIQ[i] or z_scoresdiemIQ[i] >= 3:\n",
    "        print(\"Outlier of IQ\", z_scoresdiemIQ[i])\n",
    "\n",
    "for i in range (0,len(z_scoresdiem1)):\n",
    "    if -3>= z_scoresdiem1[i] or z_scoresdiem1[i] >= 3:\n",
    "        print(\"Outlier of diem1\", z_scoresdiem1[i])\n",
    "\n",
    "for i in range (0,len(z_scoresdiem2)):\n",
    "    if -3>= z_scoresdiem2[i] or z_scoresdiem2[i] >= 3:\n",
    "        print(\"Outlier of diem1\", z_scoresdiem2[i])\n",
    "\n",
    "for i in range (0,len(z_scoresdiem3)):\n",
    "    if -3>= z_scoresdiem3[i] or z_scoresdiem3[i] >= 3:\n",
    "        print(\"Outlier of diem1\", z_scoresdiem3[i])\n",
    "        \n",
    "for i in range (0,len(z_scoresdiem4)):\n",
    "    if -3>= z_scoresdiem4[i] or z_scoresdiem4[i] >= 3:\n",
    "        print(\"Outlier of diem1\", z_scoresdiem4[i])\n",
    "\n",
    "for i in range (0,len(z_scoresdiem5)):\n",
    "    if -3>= z_scoresdiem5[i] or z_scoresdiem5[i] >= 3:\n",
    "        print(\"Outlier of diem1\", z_scoresdiem5[i])\n"
   ]
  },
  {
   "cell_type": "markdown",
   "metadata": {},
   "source": [
    "# Nhận xét:\n",
    "Không có outlier ở cột IQ và các điểm."
   ]
  },
  {
   "cell_type": "markdown",
   "metadata": {},
   "source": [
    "## 2.2)"
   ]
  },
  {
   "cell_type": "code",
   "execution_count": 5,
   "metadata": {},
   "outputs": [
    {
     "name": "stdout",
     "output_type": "stream",
     "text": [
      "Pearson corr. between IQ vs diem_1 = -0.0882\n",
      "Pearson corr. between IQ vs diem_2 = 0.8724\n",
      "Pearson corr. between IQ vs diem_3 = 0.4715\n",
      "Pearson corr. between IQ vs diem_4 = 0.6230\n"
     ]
    }
   ],
   "source": [
    "# Pearson's correlation (default)\n",
    "print('Pearson corr. between IQ vs diem_1 = %.4f' %data2['IQ'].corr(data2['diem_1']))\n",
    "print('Pearson corr. between IQ vs diem_2 = %.4f' %data2['IQ'].corr(data2['diem_2']))\n",
    "print('Pearson corr. between IQ vs diem_3 = %.4f' %data2['IQ'].corr(data2['diem_3']))\n",
    "print('Pearson corr. between IQ vs diem_4 = %.4f' %data2['IQ'].corr(data2['diem_4']))"
   ]
  },
  {
   "cell_type": "code",
   "execution_count": 6,
   "metadata": {},
   "outputs": [
    {
     "data": {
      "text/plain": [
       "<Figure size 864x576 with 0 Axes>"
      ]
     },
     "metadata": {},
     "output_type": "display_data"
    },
    {
     "data": {
      "image/png": "[encoded data removed]",
      "text/plain": [
       "<Figure size 432x432 with 3 Axes>"
      ]
     },
     "metadata": {
      "needs_background": "light"
     },
     "output_type": "display_data"
    }
   ],
   "source": [
    "plt.figure(figsize = (12, 8))\n",
    "sns.jointplot(x = data2['diem_2'], y = data2['IQ'])\n",
    "plt.show()"
   ]
  },
  {
   "cell_type": "code",
   "execution_count": 28,
   "metadata": {},
   "outputs": [
    {
     "name": "stdout",
     "output_type": "stream",
     "text": [
      "\n",
      "------------- Cách 1: Giải bằng hàm tính Gradient descent -------------\n",
      "Ma trận x (20, 2) \n",
      "\n",
      "Ma trận y (20,) \n",
      "\n",
      "    y = m.x + B --> y =  11.611847919445205 .x + ( 44.28350236491087 )\n",
      "\n"
     ]
    },
    {
     "data": {
      "image/png": "[encoded data removed]",
      "text/plain": [
       "<Figure size 864x576 with 1 Axes>"
      ]
     },
     "metadata": {
      "needs_background": "light"
     },
     "output_type": "display_data"
    }
   ],
   "source": [
    "# x = diem_2 đã chuyển theo định dạng chuẩn, y = IQ\n",
    "#------------------------------------------------------------------------------\n",
    "Sdiem2 = data2['diem_2'].size\n",
    "\n",
    "## Thêm 1 cột chứa giá trị 1 vào cột đầu tiên của x --> xBar\n",
    "xBar1 = np.c_[np.ones(Sdiem2), data2['diem_2']] # insert column\n",
    "y     = data2['IQ']\n",
    "\n",
    "##------------------------------------------------------------------------------\n",
    "print('\\n------------- Cách 1: Giải bằng hàm tính Gradient descent -------------')\n",
    "##------------------------------------------------------------------------------\n",
    "print('Ma trận x', xBar1.shape, '\\n')\n",
    "print('Ma trận y', y.shape, '\\n')\n",
    "\n",
    "## 5) Với phương trình: y = mx + b (IQ = (m * diem2) + b) \n",
    "##       gọi hàm tính m (slope), b (theta/bias)\n",
    "##------------------------------------------------------------------------------\n",
    "alpha  = 0.01 # learning rate\n",
    "theta  = lib.gradient_descent_2(alpha, xBar1, y, 1000)\n",
    "slope1 = theta[1]\n",
    "bias1  = theta[0]\n",
    "\n",
    "##------------------------------------------------------------------------------\n",
    "## 6) Dự đoán IQ_predict theo m (slope), b (bias)\n",
    "##------------------------------------------------------------------------------\n",
    "for i in range(xBar1.shape[1]):\n",
    "    IQ_predict = (slope1 * xBar1) + bias1\n",
    "\n",
    "##------------------------------------------------------------------------------\n",
    "## 7) Vẽ đường biểu diễn dữ liệu\n",
    "##------------------------------------------------------------------------------\n",
    "print('    y = m.x + B --> y = ', slope1, '.x + (', bias1, ')\\n')\n",
    "plt.figure(figsize = (12, 8))\n",
    "plt.xlim(1, 10)\n",
    "plt.ylim(60, 150)\n",
    "plt.scatter(xBar1[:,1], data2['IQ'], color = \"blue\")\n",
    "plt.plot(xBar1, IQ_predict)\n",
    "plt.xlabel(\"diem_2\")\n",
    "plt.ylabel(\"IQ\")\n",
    "plt.show()\n"
   ]
  },
  {
   "cell_type": "code",
   "execution_count": 31,
   "metadata": {},
   "outputs": [
    {
     "name": "stdout",
     "output_type": "stream",
     "text": [
      "\n",
      "---- Cách 2: Giải bằng công thức dựa trên ma trận giả nghịch đảo ----\n",
      "\n",
      "Ma trận xBar (20, 2) :\n",
      " [[1.  2. ]\n",
      " [1.  8.4]\n",
      " [1.  7.6]]\n",
      "\n",
      "Ma trận A (2, 2) :\n",
      " [[ 20.   118.4 ]\n",
      " [118.4  794.08]]\n",
      "\n",
      "Ma trận b (2,) :\n",
      " [ 2304.  14457.4]\n",
      "\n",
      "Vector chứa các tham số w (2,) :\n",
      " [63.2322226   8.77834078]\n",
      "\n",
      "    y = m.x + B --> y =  8.778340776365752 .x + ( 63.232222603915034 )\n",
      "\n"
     ]
    },
    {
     "data": {
      "image/png": "[encoded data removed]",
      "text/plain": [
       "<Figure size 864x576 with 1 Axes>"
      ]
     },
     "metadata": {
      "needs_background": "light"
     },
     "output_type": "display_data"
    }
   ],
   "source": [
    "\"\"\"-----------------------------------------------------------------------------\"\"\"\n",
    "print('\\n---- Cách 2: Giải bằng công thức dựa trên ma trận giả nghịch đảo ----')\n",
    "\n",
    "Sdiem2 = data2['diem_2'].size\n",
    "\n",
    "## Thêm 1 cột chứa giá trị 1 vào cột đầu tiên của x --> xBar\n",
    "xBar2 = np.c_[np.ones(Sdiem2), data2['diem_2']] # insert column\n",
    "y     = data2['IQ']\n",
    "## Thêm 1 cột chứa giá trị 1 vào cột đầu tiên của x --> xBar\n",
    "one   = np.ones((x.shape[0], 1))\n",
    "xBar2 = np.concatenate((one, x), axis = 1)\n",
    "print('\\nMa trận xBar', xBar2.shape, ':\\n', xBar2[0:3])\n",
    "\n",
    "A = np.dot(xBar2.T, xBar2)\n",
    "print('\\nMa trận A', A.shape, ':\\n', A)\n",
    "\n",
    "b = np.dot(xBar2.T, y)\n",
    "print('\\nMa trận b', b.shape, ':\\n', b)\n",
    "\n",
    "w = np.dot(np.linalg.pinv(A), b)\n",
    "print('\\nVector chứa các tham số w', w.shape, ':\\n', w)\n",
    "\n",
    "slope2 = w[1] \n",
    "bias2  = w[0]   \n",
    "\n",
    "##------------------------------------------------------------------------------\n",
    "## Trực quan hóa dữ liệu\n",
    "##------------------------------------------------------------------------------\n",
    "print('\\n    y = m.x + B --> y = ', slope2, '.x + (', bias2, ')\\n')\n",
    "for i in range(xBar2.shape[1]):\n",
    "    y_predict = (slope2 * xBar2) + bias2\n",
    "\n",
    "plt.figure(figsize = (12, 8))\n",
    "plt.xlim(1, 10)\n",
    "plt.ylim(60, 150)\n",
    "plt.scatter(xBar2[:, 1], data2['IQ'], color = \"green\")\n",
    "plt.plot(xBar2, y_predict)\n",
    "plt.xlabel(\"diem_2\")\n",
    "plt.ylabel(\"IQ\")\n",
    "plt.show()"
   ]
  },
  {
   "cell_type": "markdown",
   "metadata": {},
   "source": [
    "##------------------------------------------------------------------------------\n",
    "## 2.3) Dự đoán chỉ số IQ cho tập dữ liệu thử nghiệm (test set): { 0.5, 1.0, 1.5, 2.0, ..., 9.0, 9.5, 10 }.\n",
    "##------------------------------------------------------------------------------"
   ]
  },
  {
   "cell_type": "code",
   "execution_count": 40,
   "metadata": {},
   "outputs": [
    {
     "name": "stdout",
     "output_type": "stream",
     "text": [
      "Dự đoán chỉ số IQ cho tập dữ liệu thử nghiệm 0.5: 67.6\n",
      "Dự đoán chỉ số IQ cho tập dữ liệu thử nghiệm 1.0: 72.0\n",
      "Dự đoán chỉ số IQ cho tập dữ liệu thử nghiệm 1.5: 76.4\n",
      "Dự đoán chỉ số IQ cho tập dữ liệu thử nghiệm 2.0: 80.8\n",
      "Dự đoán chỉ số IQ cho tập dữ liệu thử nghiệm 2.5: 85.2\n",
      "Dự đoán chỉ số IQ cho tập dữ liệu thử nghiệm 3.0: 89.6\n",
      "Dự đoán chỉ số IQ cho tập dữ liệu thử nghiệm 3.5: 94.0\n",
      "Dự đoán chỉ số IQ cho tập dữ liệu thử nghiệm 4.0: 98.3\n",
      "Dự đoán chỉ số IQ cho tập dữ liệu thử nghiệm 4.5: 102.7\n",
      "Dự đoán chỉ số IQ cho tập dữ liệu thử nghiệm 5.0: 107.1\n",
      "Dự đoán chỉ số IQ cho tập dữ liệu thử nghiệm 5.5: 111.5\n",
      "Dự đoán chỉ số IQ cho tập dữ liệu thử nghiệm 6.0: 115.9\n",
      "Dự đoán chỉ số IQ cho tập dữ liệu thử nghiệm 6.5: 120.3\n",
      "Dự đoán chỉ số IQ cho tập dữ liệu thử nghiệm 7.0: 124.7\n",
      "Dự đoán chỉ số IQ cho tập dữ liệu thử nghiệm 7.5: 129.1\n",
      "Dự đoán chỉ số IQ cho tập dữ liệu thử nghiệm 8.0: 133.5\n",
      "Dự đoán chỉ số IQ cho tập dữ liệu thử nghiệm 8.5: 137.8\n",
      "Dự đoán chỉ số IQ cho tập dữ liệu thử nghiệm 9.0: 142.2\n",
      "Dự đoán chỉ số IQ cho tập dữ liệu thử nghiệm 9.5: 146.6\n",
      "Dự đoán chỉ số IQ cho tập dữ liệu thử nghiệm 10.0: 151.0\n"
     ]
    }
   ],
   "source": [
    "x = np.array([0.5,1.0,1.5,2.0,2.5,3.0,3.5,4.0,4.5, 5.0,5.5,6.0,6.5,7.0,7.5,8.0,8.5,9.0,9.5,10.0])\n",
    "IQ = (slope2 * x) + bias2\n",
    "for i in range (0,len(x)):\n",
    "    print(u'Dự đoán chỉ số IQ cho tập dữ liệu thử nghiệm %.1f: %.1f' %(x[i],IQ[i]))\n"
   ]
  },
  {
   "cell_type": "markdown",
   "metadata": {},
   "source": [
    "##------------------------------------------------------------------------------\n",
    "## 2.4 Nhận xét kết quả khi dùng diem_5 để dự đoán chỉ số IQ.\n",
    "##------------------------------------------------------------------------------"
   ]
  },
  {
   "cell_type": "code",
   "execution_count": 44,
   "metadata": {},
   "outputs": [
    {
     "name": "stdout",
     "output_type": "stream",
     "text": [
      "Dự đoán chỉ số IQ cho tập dữ liệu thử nghiệm 0.5: 60.5\n",
      "Dự đoán chỉ số IQ cho tập dữ liệu thử nghiệm 1.0: 90.7\n",
      "Dự đoán chỉ số IQ cho tập dữ liệu thử nghiệm 1.5: 104.7\n",
      "Dự đoán chỉ số IQ cho tập dữ liệu thử nghiệm 2.0: 118.6\n",
      "Dự đoán chỉ số IQ cho tập dữ liệu thử nghiệm 2.5: 55.9\n",
      "Dự đoán chỉ số IQ cho tập dữ liệu thử nghiệm 3.0: 109.3\n",
      "Dự đoán chỉ số IQ cho tập dữ liệu thử nghiệm 3.5: 95.4\n",
      "Dự đoán chỉ số IQ cho tập dữ liệu thử nghiệm 4.0: 48.9\n",
      "Dự đoán chỉ số IQ cho tập dữ liệu thử nghiệm 4.5: 102.3\n",
      "Dự đoán chỉ số IQ cho tập dữ liệu thử nghiệm 5.0: 72.2\n",
      "Dự đoán chỉ số IQ cho tập dữ liệu thử nghiệm 5.5: 86.1\n",
      "Dự đoán chỉ số IQ cho tập dữ liệu thử nghiệm 6.0: 100.0\n",
      "Dự đoán chỉ số IQ cho tập dữ liệu thử nghiệm 6.5: 127.9\n",
      "Dự đoán chỉ số IQ cho tập dữ liệu thử nghiệm 7.0: 67.5\n",
      "Dự đoán chỉ số IQ cho tập dữ liệu thử nghiệm 7.5: 86.1\n",
      "Dự đoán chỉ số IQ cho tập dữ liệu thử nghiệm 8.0: 109.3\n",
      "Dự đoán chỉ số IQ cho tập dữ liệu thử nghiệm 8.5: 125.6\n",
      "Dự đoán chỉ số IQ cho tập dữ liệu thử nghiệm 9.0: 72.2\n",
      "Dự đoán chỉ số IQ cho tập dữ liệu thử nghiệm 9.5: 62.9\n",
      "Dự đoán chỉ số IQ cho tập dữ liệu thử nghiệm 10.0: 137.2\n"
     ]
    }
   ],
   "source": [
    "##------------------------------------------------------------------------------\n",
    "## Nhận xét kết quả khi dùng diem_5 để dự đoán chỉ số IQ.\n",
    "##------------------------------------------------------------------------------\n",
    "IQ = (slope1 * data2['diem_5']) + bias1\n",
    "for i in range (0,len(x)):\n",
    "    print(u'Dự đoán chỉ số IQ cho tập dữ liệu thử nghiệm %.1f: %.1f' %(x[i],IQ[i]))\n",
    "    \n"
   ]
  },
  {
   "cell_type": "markdown",
   "metadata": {},
   "source": [
    "## Dựa vào tập dữ liệu trên để xác định số IQ theo diem_5 là chưa chính xác. Dữ liệu phân bố của nhóm diem_5 khác với nhóm 2 \n",
    "ví dụ: \n",
    "6.4 điểm lại có IQ = 79. trong khi đó, \n",
    "3.6 điểm lại có IQ cao nhất là 140 trong khi nhóm 2 9.6d mới có IQ = 140.\n"
   ]
  },
  {
   "cell_type": "code",
   "execution_count": null,
   "metadata": {},
   "outputs": [],
   "source": []
  }
 ],
 "metadata": {
  "kernelspec": {
   "display_name": "Python 3",
   "language": "python",
   "name": "python3"
  },
  "language_info": {
   "codemirror_mode": {
    "name": "ipython",
    "version": 3
   },
   "file_extension": ".py",
   "mimetype": "text/x-python",
   "name": "python",
   "nbconvert_exporter": "python",
   "pygments_lexer": "ipython3",
   "version": "3.7.6"
  }
 },
 "nbformat": 4,
 "nbformat_minor": 5
}
