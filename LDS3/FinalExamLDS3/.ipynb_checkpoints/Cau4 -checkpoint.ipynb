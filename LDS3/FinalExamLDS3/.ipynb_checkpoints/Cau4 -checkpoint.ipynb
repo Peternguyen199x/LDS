{
 "cells": [
  {
   "cell_type": "markdown",
   "metadata": {},
   "source": [
    "# Câu 4. Kiểm định trung bình 2 mẫu"
   ]
  },
  {
   "cell_type": "code",
   "execution_count": 53,
   "metadata": {},
   "outputs": [],
   "source": [
    "import numpy as np\n",
    "from math         import sqrt\n",
    "from numpy        import mean\n",
    "import scipy.stats as stats\n",
    "from numpy.random import seed, randn\n",
    "\n",
    "from scipy.stats import t, ttest_rel"
   ]
  },
  {
   "cell_type": "markdown",
   "metadata": {},
   "source": [
    "## 4.1) Đọc và xem thông tin của dữ liệu"
   ]
  },
  {
   "cell_type": "code",
   "execution_count": 54,
   "metadata": {},
   "outputs": [
    {
     "name": "stdout",
     "output_type": "stream",
     "text": [
      "4.1) Đọc và xem thông tin của dữ liệu.     ***\n",
      "=============================================================\n",
      "Duong_huyet_TRUOC\n",
      "[134 130 140 151 143 134 136 144 150 135 160 141 143 140 138 141 148 146\n",
      " 140 146 151 138 151 139 151 128 146 147 152 142 144 134 142 146 142 136\n",
      " 122 134 145 147]\n",
      "<class 'numpy.ndarray'>\n",
      "___\n",
      "Duong_huyet_SAU\n",
      "[130 145 126 146 164 130 132 152 145 129 133 155 140 127 139 137 131 126\n",
      " 145 148 125 132 126 126 126 135 131 129 147 136 129 136 156 146 130 146\n",
      " 132 142 132 132]\n",
      "<class 'numpy.ndarray'>\n"
     ]
    }
   ],
   "source": [
    "print('4.1) Đọc và xem thông tin của dữ liệu.     ***')\n",
    "print('=============================================================')\n",
    "\n",
    "print('Duong_huyet_TRUOC')\n",
    "dataBefore = open(\"Duong_huyet_TRUOC.txt\")\n",
    "Read_dataBefore = dataBefore.read()\n",
    "dataBefore.close()\n",
    "\n",
    "dataB = Read_dataBefore.split()\n",
    "arr_dataB = np.array(list(map(int,dataB)))\n",
    "\n",
    "print(arr_dataB)\n",
    "print(type(arr_dataB))\n",
    "\n",
    "print('___')\n",
    "print('Duong_huyet_SAU')\n",
    "dataAfter = open(\"Duong_huyet_SAU.txt\")\n",
    "Read_dataAfter = dataAfter.read()\n",
    "dataAfter.close()\n",
    "\n",
    "\n",
    "dataA = Read_dataAfter.split()\n",
    "arr_dataA = np.array(list(map(int,dataA)))\n",
    "\n",
    "print(arr_dataA)\n",
    "print(type(arr_dataA))\n",
    "\n",
    "# data = pd.read_csv(\"Duong_huyet_SAU.txt\")\n",
    "# print(data)\n",
    "# data.info()"
   ]
  },
  {
   "cell_type": "markdown",
   "metadata": {},
   "source": [
    "## 4.2) Với $\\alpha$ = 0.05, hãy cho kết luận về giả thuyết Ho : “Hai quần thể có cùng giá trị trung bình.”bằng 2 phương pháp:\n",
    "a) Tính toán truyền thống, và\n",
    "b) Dùng các hàm thống kê có sẵn."
   ]
  },
  {
   "cell_type": "code",
   "execution_count": 61,
   "metadata": {},
   "outputs": [
    {
     "name": "stdout",
     "output_type": "stream",
     "text": [
      "4.2a) Tính toán truyền thống.     ***\n",
      "=============================================================\n",
      "Các giả thuyết kiểm định                  \n",
      "    H0: Mean_1 = Mean_2                   \n",
      "    Ha: Mean_1 <> Mean_2                  \n",
      "------------------------------------------\n",
      "t = 2.613, df = 39, cv = 1.685, p = 0.013\n",
      "(t >  critical value) ==> Bác bỏ H0 ==> Mean_1 <> Mean_2.\n",
      "(p <= alpha) ==> Bác bỏ H0 ==> Mean_1 <> Mean_2.\n",
      "\n",
      "4.2b) Dùng các hàm thống kê có sẵn.     ***\n",
      "=============================================================\n",
      "\n",
      "**** Phương pháp TRỊ SỐ p (p-value) ----\n",
      "\n",
      "t = 2.613, p = 0.013\n",
      "(p <= alpha) ==> Bác bỏ H0 ==> Mean_1 <> Mean_2.\n"
     ]
    }
   ],
   "source": [
    "print('4.2a) Tính toán truyền thống.     ***')\n",
    "print('=============================================================')\n",
    "print('Các giả thuyết kiểm định                  ')\n",
    "print('    H0: Mean_1 = Mean_2                   ')\n",
    "print('    Ha: Mean_1 <> Mean_2                  ')\n",
    "print('------------------------------------------')\n",
    "alpha            = .05\n",
    "confidence_level = 1 - alpha\n",
    "# Function for calculating the t-test for two DEPENDENT samples\n",
    "#------------------------------------------------------------------------------\n",
    "def dependent_T_test(data1, data2, alpha):\n",
    "  \n",
    "    # Calculate 2 means\n",
    "    mean1, mean2 = mean(data1), mean(data2)\n",
    "    \n",
    "    # Number of paired samples\n",
    "    n = len(data1)\n",
    "    \n",
    "    # Sum squared difference between observations\n",
    "    d1 = sum([(data1[i] - data2[i])**2 for i in range(n)])\n",
    "    \n",
    "    # Sum difference between observations\n",
    "    d2 = sum([data1[i] - data2[i] for i in range(n)])\n",
    "    \n",
    "    # Standard deviation of the difference between means\n",
    "    sd = sqrt((d1 - (d2**2 / n)) / (n - 1))\n",
    "    \n",
    "    # Standard error of the difference between the means\n",
    "    sed = sd / sqrt(n)\n",
    "    \n",
    "    # Calculate the t statistic\n",
    "    t_stat = (mean1 - mean2) / sed\n",
    "\n",
    "    # Degrees of freedom\n",
    "    df = n - 1\n",
    "\n",
    "    # Calculate the critical value\n",
    "    cv = t.ppf(1.0 - alpha, df)\n",
    "  \n",
    "    # calculate the p-value\n",
    "    p = (1.0 - t.cdf(abs(t_stat), df)) * 2.0\n",
    "    \n",
    "    # Return everything\n",
    "    return t_stat, df, cv, p\n",
    "\n",
    "t_stat, df, cv, p = dependent_T_test(arr_dataB, arr_dataA, alpha)\n",
    "print('t = %.3f, df = %d, cv = %.3f, p = %.3f' % (t_stat, df, cv, p))\n",
    "\n",
    "# Interpret via critical value\n",
    "if abs(t_stat) <= cv:\n",
    "    print('(t <= critical value) ==> KHÔNG bác bỏ H0 ==> Mean_1 = Mean_2')\n",
    "else:\n",
    "    print('(t >  critical value) ==> Bác bỏ H0 ==> Mean_1 <> Mean_2.')\n",
    "\n",
    "# Interpret via p-value\n",
    "if p > alpha:\n",
    "    print('(p >  alpha) ==> KHÔNG bác bỏ H0 ==> Mean_1 = Mean_2')\n",
    "else:\n",
    "    print('(p <= alpha) ==> Bác bỏ H0 ==> Mean_1 <> Mean_2.')\n",
    "\n",
    "    \n",
    "print('')\n",
    "print('4.2b) Dùng các hàm thống kê có sẵn.     ***')\n",
    "print('=============================================================')\n",
    "##------------------------------------------------------------------------------\n",
    "print('\\n**** Phương pháp TRỊ SỐ p (p-value) ----')\n",
    "##------------------------------------------------------------------------------    \n",
    "t_stat, p = ttest_rel(arr_dataB, arr_dataA)\n",
    "print('\\nt = %.3f, p = %.3f' % (t_stat, p))\n",
    "\n",
    "# Interpret via p-value\n",
    "if p > alpha:\n",
    "    print('(p >  alpha) ==> KHÔNG bác bỏ H0 ==> Mean_1 = Mean_2')\n",
    "else:\n",
    "    print('(p <= alpha) ==> Bác bỏ H0 ==> Mean_1 <> Mean_2.')\n"
   ]
  },
  {
   "cell_type": "code",
   "execution_count": null,
   "metadata": {},
   "outputs": [],
   "source": []
  }
 ],
 "metadata": {
  "kernelspec": {
   "display_name": "Python 3",
   "language": "python",
   "name": "python3"
  },
  "language_info": {
   "codemirror_mode": {
    "name": "ipython",
    "version": 3
   },
   "file_extension": ".py",
   "mimetype": "text/x-python",
   "name": "python",
   "nbconvert_exporter": "python",
   "pygments_lexer": "ipython3",
   "version": "3.7.6"
  }
 },
 "nbformat": 4,
 "nbformat_minor": 5
}
