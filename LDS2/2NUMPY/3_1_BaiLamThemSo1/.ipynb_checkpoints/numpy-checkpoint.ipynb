{
 "cells": [
  {
   "cell_type": "markdown",
   "metadata": {
    "id": "ydCQ7cGw_zrw"
   },
   "source": [
    "# Bài làm thêm 1 - Numpy\n",
    "\n"
   ]
  },
  {
   "cell_type": "code",
   "execution_count": 10,
   "metadata": {
    "id": "K3fwpSqY_zr2"
   },
   "outputs": [],
   "source": [
    "import numpy as np"
   ]
  },
  {
   "cell_type": "code",
   "execution_count": 13,
   "metadata": {
    "id": "ywRJ-7pM_zsb"
   },
   "outputs": [],
   "source": [
    "#1. Tạo mảng ngẫu nhiên 10 phần tử số nguyên từ 10-29\n",
    "np.random.seed(2)\n",
    "arr = np.random.randint(10,29, 10)"
   ]
  },
  {
   "cell_type": "markdown",
   "metadata": {
    "id": "YoeFlgdD_zs7"
   },
   "source": [
    "<details>\n",
    "  <summary>Nhấn vào đây để xem kết quả !</summary>\n",
    "  \n",
    "  <pre>array([18, 25, 23, 18, 21, 28, 21, 18, 17, 12])\n",
    "</pre>\n",
    "\n",
    "</details>"
   ]
  },
  {
   "cell_type": "code",
   "execution_count": 15,
   "metadata": {
    "id": "3e7T-IPc_ztA"
   },
   "outputs": [
    {
     "data": {
      "text/plain": [
       "dtype('int64')"
      ]
     },
     "execution_count": 15,
     "metadata": {},
     "output_type": "execute_result"
    }
   ],
   "source": [
    "#2. Cho iết kiểu dữ liệu các phần tử của arr1\n",
    "arr.dtype"
   ]
  },
  {
   "cell_type": "markdown",
   "metadata": {
    "id": "qr_FFiUP_ztk"
   },
   "source": [
    "<details>\n",
    "  <summary>Nhấn vào đây để xem kết quả !</summary>\n",
    "  \n",
    "  <pre>dtype('int32')\n",
    "</pre>\n",
    "\n",
    "</details>"
   ]
  },
  {
   "cell_type": "code",
   "execution_count": null,
   "metadata": {
    "id": "oRi09KBI_ztm"
   },
   "outputs": [],
   "source": [
    "#3. Cho biết dung lượng bộ nhớ của mảng arr1\n"
   ]
  },
  {
   "cell_type": "markdown",
   "metadata": {
    "id": "q5lKpi47_zt5"
   },
   "source": [
    "<details>\n",
    "  <summary>Nhấn vào đây để xem kết quả !</summary>\n",
    "  \n",
    "  <pre>40\n",
    "</pre>\n",
    "\n",
    "</details>"
   ]
  },
  {
   "cell_type": "code",
   "execution_count": null,
   "metadata": {
    "id": "b1HbPgAd_zuM"
   },
   "outputs": [],
   "source": [
    "#4. Tạo mảng arr2 là mảng arr1 nhưng có các giá trị chia hết cho 3 được thay bằng -1\n"
   ]
  },
  {
   "cell_type": "markdown",
   "metadata": {
    "id": "JUSR9ZUG_zuo"
   },
   "source": [
    "<details>\n",
    "  <summary>Nhấn vào đây để xem kết quả !</summary>\n",
    "  \n",
    "  <pre>array([-1, 25, 23, -1, -1, 28, -1, -1, 17, -1])\n",
    "</pre>\n",
    "\n",
    "</details>"
   ]
  },
  {
   "cell_type": "code",
   "execution_count": null,
   "metadata": {
    "id": "LuQY4h8w_zuq"
   },
   "outputs": [],
   "source": [
    "#5. Phát sinh mảng arr3 ngẫu nhiên 10 phần tử số nguyên từ 15-35\n",
    "np.random.seed(3)"
   ]
  },
  {
   "cell_type": "markdown",
   "metadata": {
    "id": "X2hAYpdN_zva"
   },
   "source": [
    "<details>\n",
    "  <summary>Nhấn vào đây để xem kết quả !</summary>\n",
    "  \n",
    "  <pre>array([25, 18, 23, 15, 34, 25, 26, 24, 25, 21])\n",
    "</pre>\n",
    "\n",
    "</details>"
   ]
  },
  {
   "cell_type": "code",
   "execution_count": null,
   "metadata": {
    "id": "gVPr0nAo_zve"
   },
   "outputs": [],
   "source": [
    "#6.  Liệt kê ra các phần tử giống nhau trong arr1 và arr3\n"
   ]
  },
  {
   "cell_type": "markdown",
   "metadata": {
    "id": "pf5ZBS8y_zvv"
   },
   "source": [
    "<details>\n",
    "  <summary>Nhấn vào đây để xem kết quả !</summary>\n",
    "  \n",
    "  <pre>array([23])\n",
    "</pre>\n",
    "\n",
    "</details>"
   ]
  },
  {
   "cell_type": "code",
   "execution_count": null,
   "metadata": {
    "id": "LFCnnyUw_zvx"
   },
   "outputs": [],
   "source": [
    "#7. Tạo mảng arr4 là mảng arr1 nhưng có 2 dòng, 5 cột \n"
   ]
  },
  {
   "cell_type": "markdown",
   "metadata": {
    "id": "66NdNqNW_zwQ"
   },
   "source": [
    "<details>\n",
    "  <summary>Nhấn vào đây để xem kết quả !</summary>\n",
    "  \n",
    "  <pre>array([[18, 25, 23, 18, 21],\n",
    "       [28, 21, 18, 17, 12]])\n",
    "</pre>\n",
    "\n",
    "</details>"
   ]
  },
  {
   "cell_type": "code",
   "execution_count": null,
   "metadata": {
    "id": "2DvBAbRT_zwZ"
   },
   "outputs": [],
   "source": [
    "#8. Hoán đổi 2 dòng của mảng arr4\n",
    "\n"
   ]
  },
  {
   "cell_type": "markdown",
   "metadata": {
    "id": "2o5tCupI_zwl"
   },
   "source": [
    "<details>\n",
    "  <summary>Nhấn vào đây để xem kết quả !</summary>\n",
    "  \n",
    "  <pre>array([[28, 21, 18, 17, 12],\n",
    "       [18, 25, 23, 18, 21]])\n",
    "</pre>\n",
    "\n",
    "</details>"
   ]
  },
  {
   "cell_type": "code",
   "execution_count": null,
   "metadata": {
    "id": "Zap7PgU-_zww"
   },
   "outputs": [],
   "source": [
    "#8. Hoán đổi cột 1 và cột 3 của mảng arr4\n"
   ]
  },
  {
   "cell_type": "markdown",
   "metadata": {
    "id": "LFfCNDlf_zxH"
   },
   "source": [
    "<details>\n",
    "  <summary>Nhấn vào đây để xem kết quả !</summary>\n",
    "  \n",
    "  <pre>Trước khi hoán đổi: \n",
    " [[18 25 23 18 21]\n",
    " [28 21 18 17 12]]\n",
    "Sau khi hoán đổi: \n",
    " [[23 25 18 18 21]\n",
    " [18 21 28 17 12]]\n",
    "</pre>\n",
    "\n",
    "</details>"
   ]
  },
  {
   "cell_type": "code",
   "execution_count": null,
   "metadata": {
    "id": "AapIsDVX_zxL"
   },
   "outputs": [],
   "source": [
    "#9. Tạo mảng arr5 kích thước 8x8 với giá trị bên trong là 0 và các giá trị biên là 1\n"
   ]
  },
  {
   "cell_type": "markdown",
   "metadata": {
    "id": "XwWay1R7_zxd"
   },
   "source": [
    "<details>\n",
    "  <summary>Nhấn vào đây để xem kết quả !</summary>\n",
    "  \n",
    "  <pre>[[1 1 1 1 1 1 1]\n",
    " [1 0 0 0 0 0 1]\n",
    " [1 0 0 0 0 0 1]\n",
    " [1 0 0 0 0 0 1]\n",
    " [1 0 0 0 0 0 1]\n",
    " [1 0 0 0 0 0 1]\n",
    " [1 1 1 1 1 1 1]]\n",
    "</pre>\n",
    "\n",
    "</details>"
   ]
  },
  {
   "cell_type": "code",
   "execution_count": null,
   "metadata": {
    "id": "-YVCPnBC_zxf"
   },
   "outputs": [],
   "source": [
    "#10. Cộng thêm 3 vào các phần tử của mảng arr5\n"
   ]
  },
  {
   "cell_type": "markdown",
   "metadata": {
    "id": "JvBhcFLs_zxt"
   },
   "source": [
    "<details>\n",
    "  <summary>Nhấn vào đây để xem kết quả !</summary>\n",
    "  \n",
    "  <pre>array([[4, 4, 4, 4, 4, 4, 4],\n",
    "       [4, 3, 3, 3, 3, 3, 4],\n",
    "       [4, 3, 3, 3, 3, 3, 4],\n",
    "       [4, 3, 3, 3, 3, 3, 4],\n",
    "       [4, 3, 3, 3, 3, 3, 4],\n",
    "       [4, 3, 3, 3, 3, 3, 4],\n",
    "       [4, 4, 4, 4, 4, 4, 4]])\n",
    "</pre>\n",
    "\n",
    "</details>"
   ]
  },
  {
   "cell_type": "code",
   "execution_count": null,
   "metadata": {
    "id": "nHlj__s__zxw"
   },
   "outputs": [],
   "source": [
    "#11. Tạo mảng arr6 là mảng 1 chiều của mảng arr5 \n"
   ]
  },
  {
   "cell_type": "markdown",
   "metadata": {
    "id": "hUdmAC1j_zyT"
   },
   "source": [
    "<details>\n",
    "  <summary>Nhấn vào đây để xem kết quả !</summary>\n",
    "  \n",
    "  <pre>array([4, 4, 4, 4, 4, 4, 4, 4, 3, 3, 3, 3, 3, 4, 4, 3, 3, 3, 3, 3, 4, 4,\n",
    "       3, 3, 3, 3, 3, 4, 4, 3, 3, 3, 3, 3, 4, 4, 3, 3, 3, 3, 3, 4, 4, 4,\n",
    "       4, 4, 4, 4, 4])\n",
    "</pre>\n",
    "\n",
    "</details>"
   ]
  },
  {
   "cell_type": "code",
   "execution_count": null,
   "metadata": {
    "id": "Oj3FKGC6_zyW"
   },
   "outputs": [],
   "source": [
    "#12. Tạo mảng arr7 là 5 phần tử ngẫu nhiên từ arr3\n",
    "np.random.seed(8)\n"
   ]
  },
  {
   "cell_type": "markdown",
   "metadata": {
    "id": "IO1ER0Ju_zzW"
   },
   "source": [
    "<details>\n",
    "  <summary>Nhấn vào đây để xem kết quả !</summary>\n",
    "  \n",
    "  <pre>array([15, 34, 18, 21, 25])\n",
    "</pre>\n",
    "\n",
    "</details>"
   ]
  },
  {
   "cell_type": "markdown",
   "metadata": {
    "id": "HcCnHAGS_zzb"
   },
   "source": [
    "#### Part 2 - Đọc dữ liệu và tính toán thống kê"
   ]
  },
  {
   "cell_type": "code",
   "execution_count": null,
   "metadata": {
    "id": "js_aje47_zzj"
   },
   "outputs": [],
   "source": [
    "#1. Đọc dữ liệu từ tập tin shark.tsv (dữ liệu số vụ cá mập tấn công các tháng của 3 quốc gia USA,Australia,South Africa)\n",
    "# và đưa vào mảng shark (Gợi ý: sử dụng hàm np.genfromtxt)\n"
   ]
  },
  {
   "cell_type": "markdown",
   "metadata": {
    "id": "d1MMFLAK_z0K"
   },
   "source": [
    "<details>\n",
    "  <summary>Nhấn vào đây để xem kết quả !</summary>\n",
    "  \n",
    "  <pre>array([[ -1,  28,  94,  68],\n",
    "       [ -1,  27,  78,  32],\n",
    "       [ -1,  66,  63,  34],\n",
    "       [ -1, 103,  54,  25],\n",
    "       [ -1, 106,  21,  25],\n",
    "       [ -1, 173,  25,  22],\n",
    "       [ -1, 232,  25,  28],\n",
    "       [ -1, 208,  28,  15],\n",
    "       [ -1, 182,  35,  17],\n",
    "       [ -1, 141,  56,  16],\n",
    "       [ -1,  79,  65,  20],\n",
    "       [ -1,  37,  94,  46]])\n",
    "</pre>\n",
    "\n",
    "</details>"
   ]
  },
  {
   "cell_type": "code",
   "execution_count": null,
   "metadata": {
    "id": "cZi3vUFa_z0Y"
   },
   "outputs": [],
   "source": [
    "#2. Cho biết số phần tử mỗi chiều của mảng\n"
   ]
  },
  {
   "cell_type": "markdown",
   "metadata": {
    "id": "jF1zCpuz_z1A"
   },
   "source": [
    "<details>\n",
    "  <summary>Nhấn vào đây để xem kết quả !</summary>\n",
    "  \n",
    "  <pre>(12, 4)\n",
    "</pre>\n",
    "\n",
    "</details>"
   ]
  },
  {
   "cell_type": "code",
   "execution_count": null,
   "metadata": {
    "id": "aCNh2J_r_z1M"
   },
   "outputs": [],
   "source": [
    "#3. Thay cột 1 (giá trị -1) bằng giá trị tương ứng các tháng trong năm 1-12\n"
   ]
  },
  {
   "cell_type": "markdown",
   "metadata": {
    "id": "nkouIiuf_z1y"
   },
   "source": [
    "<details>\n",
    "  <summary>Nhấn vào đây để xem kết quả !</summary>\n",
    "  \n",
    "  <pre>array([[  1,  28,  94,  68],\n",
    "       [  2,  27,  78,  32],\n",
    "       [  3,  66,  63,  34],\n",
    "       [  4, 103,  54,  25],\n",
    "       [  5, 106,  21,  25],\n",
    "       [  6, 173,  25,  22],\n",
    "       [  7, 232,  25,  28],\n",
    "       [  8, 208,  28,  15],\n",
    "       [  9, 182,  35,  17],\n",
    "       [ 10, 141,  56,  16],\n",
    "       [ 11,  79,  65,  20],\n",
    "       [ 12,  37,  94,  46]])\n",
    "</pre>\n",
    "\n",
    "</details>"
   ]
  },
  {
   "cell_type": "code",
   "execution_count": null,
   "metadata": {
    "id": "N1yW2POD_z15"
   },
   "outputs": [],
   "source": [
    "#4. Hiển thị số vụ cá mập tấn công trung bình của 3 quốc gia\n"
   ]
  },
  {
   "cell_type": "markdown",
   "metadata": {
    "id": "i1uvcJc7_z2V"
   },
   "source": [
    "<details>\n",
    "  <summary>Nhấn vào đây để xem kết quả !</summary>\n",
    "  \n",
    "  <pre>array([115.16666667,  53.16666667,  29.        ])\n",
    "</pre>\n",
    "\n",
    "</details>"
   ]
  },
  {
   "cell_type": "code",
   "execution_count": null,
   "metadata": {
    "id": "71IVEorE_z2b"
   },
   "outputs": [],
   "source": [
    "#5. Hiển thị số vụ cá mập tấn công trung bình của mỗi tháng  \n"
   ]
  },
  {
   "cell_type": "markdown",
   "metadata": {
    "id": "eWadsSWe_z2x"
   },
   "source": [
    "<details>\n",
    "  <summary>Nhấn vào đây để xem kết quả !</summary>\n",
    "  \n",
    "  <pre>array([63.33333333, 45.66666667, 54.33333333, 60.66666667, 50.66666667,\n",
    "       73.33333333, 95.        , 83.66666667, 78.        , 71.        ,\n",
    "       54.66666667, 59.        ])\n",
    "</pre>\n",
    "\n",
    "</details>"
   ]
  },
  {
   "cell_type": "code",
   "execution_count": null,
   "metadata": {
    "id": "qWC2vxK1_z2z"
   },
   "outputs": [],
   "source": [
    "#6. Tạo thêm cột tổng số vụ cá mập tấn công theo mỗi tháng \n"
   ]
  },
  {
   "cell_type": "markdown",
   "metadata": {
    "id": "QFEbOB7I_z3F"
   },
   "source": [
    "<details>\n",
    "  <summary>Nhấn vào đây để xem kết quả !</summary>\n",
    "  \n",
    "  <pre>array([[  1,  28,  94,  68, 190],\n",
    "       [  2,  27,  78,  32, 137],\n",
    "       [  3,  66,  63,  34, 163],\n",
    "       [  4, 103,  54,  25, 182],\n",
    "       [  5, 106,  21,  25, 152],\n",
    "       [  6, 173,  25,  22, 220],\n",
    "       [  7, 232,  25,  28, 285],\n",
    "       [  8, 208,  28,  15, 251],\n",
    "       [  9, 182,  35,  17, 234],\n",
    "       [ 10, 141,  56,  16, 213],\n",
    "       [ 11,  79,  65,  20, 164],\n",
    "       [ 12,  37,  94,  46, 177]])\n",
    "</pre>\n",
    "\n",
    "</details>"
   ]
  },
  {
   "cell_type": "code",
   "execution_count": null,
   "metadata": {
    "id": "bqUp3K0X_z3H"
   },
   "outputs": [],
   "source": [
    "#7. Cho biết những tháng có tổng số vụ cá mập tấn công >200\n"
   ]
  },
  {
   "cell_type": "markdown",
   "metadata": {
    "id": "vCFU4BfL_z3o"
   },
   "source": [
    "<details>\n",
    "  <summary>Nhấn vào đây để xem kết quả !</summary>\n",
    "  \n",
    "  <pre>array([[  6, 173,  25,  22, 220],\n",
    "       [  7, 232,  25,  28, 285],\n",
    "       [  8, 208,  28,  15, 251],\n",
    "       [  9, 182,  35,  17, 234],\n",
    "       [ 10, 141,  56,  16, 213]])\n",
    "</pre>\n",
    "\n",
    "</details>"
   ]
  },
  {
   "cell_type": "code",
   "execution_count": null,
   "metadata": {
    "id": "O9s2G0B3_z3v"
   },
   "outputs": [],
   "source": [
    "#8. Cho biết tổng số vụ cá mập tấn công nhiều nhất trong tháng là bao nhiêu\n"
   ]
  },
  {
   "cell_type": "markdown",
   "metadata": {
    "id": "giEpDNsp_z4C"
   },
   "source": [
    "<details>\n",
    "  <summary>Nhấn vào đây để xem kết quả !</summary>\n",
    "  \n",
    "  <pre>285\n",
    "</pre>\n",
    "\n",
    "</details>"
   ]
  },
  {
   "cell_type": "code",
   "execution_count": null,
   "metadata": {
    "id": "PNUieu5a_z4E"
   },
   "outputs": [],
   "source": [
    "#9. Cho biết tháng nào có tổng số vụ cá mập tấn công nhiều nhất\n"
   ]
  },
  {
   "cell_type": "markdown",
   "metadata": {
    "id": "GVtBUdND_z4g"
   },
   "source": [
    "<details>\n",
    "  <summary>Nhấn vào đây để xem kết quả !</summary>\n",
    "  \n",
    "  <pre>Tháng có tổng số vụ cá mập tấn công nhiều nhất là tháng : 7\n",
    "</pre>\n",
    "\n",
    "</details>"
   ]
  },
  {
   "cell_type": "code",
   "execution_count": 19,
   "metadata": {
    "id": "6lCkSWH9_z4j"
   },
   "outputs": [
    {
     "data": {
      "text/plain": [
       "array([[1., 1., 1.],\n",
       "       [1., 1., 1.]])"
      ]
     },
     "execution_count": 19,
     "metadata": {},
     "output_type": "execute_result"
    }
   ],
   "source": [
    "arr2 = np.ones((2,3), dtype = 'float')\n",
    "arr2"
   ]
  },
  {
   "cell_type": "code",
   "execution_count": 25,
   "metadata": {},
   "outputs": [
    {
     "data": {
      "text/plain": [
       "array([ 0,  3,  6,  9, 12, 15, 18])"
      ]
     },
     "execution_count": 25,
     "metadata": {},
     "output_type": "execute_result"
    }
   ],
   "source": [
    "#arange\n",
    "np.arange(0,20,3)"
   ]
  },
  {
   "cell_type": "code",
   "execution_count": 21,
   "metadata": {},
   "outputs": [
    {
     "data": {
      "text/plain": [
       "array([[10, 10, 10],\n",
       "       [10, 10, 10]], dtype=int16)"
      ]
     },
     "execution_count": 21,
     "metadata": {},
     "output_type": "execute_result"
    }
   ],
   "source": [
    "# full\n",
    "np.full((2,3), 10, dtype = 'i2')"
   ]
  },
  {
   "cell_type": "code",
   "execution_count": 23,
   "metadata": {},
   "outputs": [
    {
     "data": {
      "text/plain": [
       "array([0.        , 0.22222222, 0.44444444, 0.66666667, 0.88888889,\n",
       "       1.11111111, 1.33333333, 1.55555556, 1.77777778, 2.        ])"
      ]
     },
     "execution_count": 23,
     "metadata": {},
     "output_type": "execute_result"
    }
   ],
   "source": [
    "# linspace\n",
    "np.linspace(0,2,10)"
   ]
  },
  {
   "cell_type": "code",
   "execution_count": 30,
   "metadata": {},
   "outputs": [
    {
     "data": {
      "text/plain": [
       "array([[0.4359949 , 0.02592623, 0.54966248, 0.43532239, 0.4203678 ],\n",
       "       [0.33033482, 0.20464863, 0.61927097, 0.29965467, 0.26682728],\n",
       "       [0.62113383, 0.52914209, 0.13457995, 0.51357812, 0.18443987],\n",
       "       [0.78533515, 0.85397529, 0.49423684, 0.84656149, 0.07964548]])"
      ]
     },
     "execution_count": 30,
     "metadata": {},
     "output_type": "execute_result"
    }
   ],
   "source": [
    "#random seed\n",
    "np.random.seed(2)\n",
    "# random\n",
    "np.random.random((4,5))"
   ]
  },
  {
   "cell_type": "code",
   "execution_count": 33,
   "metadata": {},
   "outputs": [
    {
     "data": {
      "text/plain": [
       "array([[ 5.01857207e-01, -8.44213704e-01,  9.76147160e-06],\n",
       "       [ 5.42352572e-01, -3.13508197e-01,  7.71011738e-01],\n",
       "       [-1.86809065e+00,  1.73118467e+00,  1.46767801e+00]])"
      ]
     },
     "execution_count": 33,
     "metadata": {},
     "output_type": "execute_result"
    }
   ],
   "source": [
    "np.random.normal(0,1,(3,3)) # mean = 0, std = 1, space (3,3)"
   ]
  },
  {
   "cell_type": "code",
   "execution_count": 36,
   "metadata": {},
   "outputs": [
    {
     "data": {
      "text/plain": [
       "array([[0, 8, 5, 4, 2],\n",
       "       [9, 7, 1, 9, 2],\n",
       "       [1, 0, 7, 1, 8],\n",
       "       [9, 0, 7, 0, 5]])"
      ]
     },
     "execution_count": 36,
     "metadata": {},
     "output_type": "execute_result"
    }
   ],
   "source": [
    "np.random.randint(0,10, (4,5)) # int from 0 to 10, shape(4,5)"
   ]
  },
  {
   "cell_type": "code",
   "execution_count": 39,
   "metadata": {},
   "outputs": [
    {
     "data": {
      "text/plain": [
       "array([[0.38697123, 0.8362492 , 0.60176372, 0.91201878],\n",
       "       [0.48405357, 0.95851407, 0.57670966, 0.0277443 ],\n",
       "       [0.73887085, 0.8614008 , 0.09855001, 0.96344304],\n",
       "       [0.56342604, 0.74070191, 0.22400132, 0.9411825 ]])"
      ]
     },
     "execution_count": 39,
     "metadata": {},
     "output_type": "execute_result"
    }
   ],
   "source": [
    "np.random.rand(4,4)"
   ]
  },
  {
   "cell_type": "code",
   "execution_count": 63,
   "metadata": {},
   "outputs": [
    {
     "data": {
      "text/plain": [
       "array([ 3, 14, 15,  6, 16,  9])"
      ]
     },
     "execution_count": 63,
     "metadata": {},
     "output_type": "execute_result"
    }
   ],
   "source": [
    "#  One dimensional subarray\n",
    "np.random.seed(5)\n",
    "arr1 = np.random.randint(20, size = 6)\n",
    "arr1"
   ]
  },
  {
   "cell_type": "code",
   "execution_count": 49,
   "metadata": {},
   "outputs": [
    {
     "data": {
      "text/plain": [
       "(16, 3, 16)"
      ]
     },
     "execution_count": 49,
     "metadata": {},
     "output_type": "execute_result"
    }
   ],
   "source": [
    "arr1[4], arr1[0], arr1[-2]"
   ]
  },
  {
   "cell_type": "code",
   "execution_count": 52,
   "metadata": {},
   "outputs": [
    {
     "data": {
      "text/plain": [
       "array([[ 3, 14, 15,  6],\n",
       "       [16,  9,  8,  4],\n",
       "       [ 7, 16, 16,  7]])"
      ]
     },
     "execution_count": 52,
     "metadata": {},
     "output_type": "execute_result"
    }
   ],
   "source": [
    "#  Two dimensional subarray\n",
    "np.random.seed(5)\n",
    "arr2 = np.random.randint(20, size = (3,4))\n",
    "arr2"
   ]
  },
  {
   "cell_type": "code",
   "execution_count": 60,
   "metadata": {},
   "outputs": [
    {
     "data": {
      "text/plain": [
       "array([[ 3, 14, 15,  6],\n",
       "       [16,  9,  8,  4],\n",
       "       [ 7, 16, 16, 10]])"
      ]
     },
     "execution_count": 60,
     "metadata": {},
     "output_type": "execute_result"
    }
   ],
   "source": [
    "arr2[2,3] = 10\n",
    "arr2"
   ]
  },
  {
   "cell_type": "markdown",
   "metadata": {},
   "source": [
    "# Slicing\n",
    " x[start:stop:step]"
   ]
  },
  {
   "cell_type": "code",
   "execution_count": 71,
   "metadata": {},
   "outputs": [
    {
     "data": {
      "text/plain": [
       "array([ 3, 14, 15,  6, 16,  9])"
      ]
     },
     "execution_count": 71,
     "metadata": {},
     "output_type": "execute_result"
    }
   ],
   "source": [
    "# 1-D array\n",
    "arr1"
   ]
  },
  {
   "cell_type": "code",
   "execution_count": 72,
   "metadata": {},
   "outputs": [
    {
     "data": {
      "text/plain": [
       "array([ 3, 14, 15])"
      ]
     },
     "execution_count": 72,
     "metadata": {},
     "output_type": "execute_result"
    }
   ],
   "source": [
    "arr1[0:3]"
   ]
  },
  {
   "cell_type": "code",
   "execution_count": 73,
   "metadata": {},
   "outputs": [
    {
     "data": {
      "text/plain": [
       "array([15,  6])"
      ]
     },
     "execution_count": 73,
     "metadata": {},
     "output_type": "execute_result"
    }
   ],
   "source": [
    "arr1[2:4]"
   ]
  },
  {
   "cell_type": "code",
   "execution_count": 74,
   "metadata": {},
   "outputs": [
    {
     "data": {
      "text/plain": [
       "array([ 3, 15, 16])"
      ]
     },
     "execution_count": 74,
     "metadata": {},
     "output_type": "execute_result"
    }
   ],
   "source": [
    "arr1[::2]"
   ]
  },
  {
   "cell_type": "code",
   "execution_count": 75,
   "metadata": {},
   "outputs": [
    {
     "data": {
      "text/plain": [
       "array([[ 3, 14, 15,  6],\n",
       "       [16,  9,  8,  4],\n",
       "       [ 7, 16, 16, 10]])"
      ]
     },
     "execution_count": 75,
     "metadata": {},
     "output_type": "execute_result"
    }
   ],
   "source": [
    "# 2-D array\n",
    "arr2"
   ]
  },
  {
   "cell_type": "code",
   "execution_count": 79,
   "metadata": {},
   "outputs": [
    {
     "data": {
      "text/plain": [
       "array([[ 3, 14, 15,  6],\n",
       "       [16,  9,  8,  4]])"
      ]
     },
     "execution_count": 79,
     "metadata": {},
     "output_type": "execute_result"
    }
   ],
   "source": [
    "#two rows three columns\n",
    "arr2[:2,:]"
   ]
  },
  {
   "cell_type": "markdown",
   "metadata": {},
   "source": [
    "# Reshape of Array & Transpose"
   ]
  },
  {
   "cell_type": "code",
   "execution_count": 81,
   "metadata": {},
   "outputs": [
    {
     "data": {
      "text/plain": [
       "(9,)"
      ]
     },
     "execution_count": 81,
     "metadata": {},
     "output_type": "execute_result"
    }
   ],
   "source": [
    "grid = np.arange(1,10)\n",
    "grid.shape"
   ]
  },
  {
   "cell_type": "code",
   "execution_count": 82,
   "metadata": {},
   "outputs": [
    {
     "data": {
      "text/plain": [
       "array([[1, 2, 3],\n",
       "       [4, 5, 6],\n",
       "       [7, 8, 9]])"
      ]
     },
     "execution_count": 82,
     "metadata": {},
     "output_type": "execute_result"
    }
   ],
   "source": [
    "grid.reshape((3,3))"
   ]
  },
  {
   "cell_type": "code",
   "execution_count": 89,
   "metadata": {},
   "outputs": [
    {
     "data": {
      "text/plain": [
       "(3,)"
      ]
     },
     "execution_count": 89,
     "metadata": {},
     "output_type": "execute_result"
    }
   ],
   "source": [
    "x = np.array([1,2,3])\n",
    "x.shape"
   ]
  },
  {
   "cell_type": "code",
   "execution_count": 92,
   "metadata": {},
   "outputs": [
    {
     "data": {
      "text/plain": [
       "array([[1, 2],\n",
       "       [3, 4]])"
      ]
     },
     "execution_count": 92,
     "metadata": {},
     "output_type": "execute_result"
    }
   ],
   "source": [
    "x = np.array([[1,2],[3,4]])\n",
    "x"
   ]
  },
  {
   "cell_type": "code",
   "execution_count": 93,
   "metadata": {},
   "outputs": [
    {
     "data": {
      "text/plain": [
       "array([[1, 3],\n",
       "       [2, 4]])"
      ]
     },
     "execution_count": 93,
     "metadata": {},
     "output_type": "execute_result"
    }
   ],
   "source": [
    "x.T"
   ]
  },
  {
   "cell_type": "code",
   "execution_count": 94,
   "metadata": {},
   "outputs": [],
   "source": [
    "# array concatenation and splitting"
   ]
  },
  {
   "cell_type": "code",
   "execution_count": 95,
   "metadata": {},
   "outputs": [],
   "source": [
    "x= np.array([1,3,5])\n",
    "y = np.array([2,4,6])"
   ]
  },
  {
   "cell_type": "code",
   "execution_count": 106,
   "metadata": {},
   "outputs": [
    {
     "data": {
      "text/plain": [
       "array([1, 3, 5, 2, 4, 6])"
      ]
     },
     "execution_count": 106,
     "metadata": {},
     "output_type": "execute_result"
    }
   ],
   "source": [
    "np.concatenate((x,y), axis = 0) # asix = 0 by default"
   ]
  },
  {
   "cell_type": "code",
   "execution_count": 107,
   "metadata": {},
   "outputs": [
    {
     "data": {
      "text/plain": [
       "array([[0.08074127, 0.7384403 , 0.44130922],\n",
       "       [0.15830987, 0.87993703, 0.27408646]])"
      ]
     },
     "execution_count": 107,
     "metadata": {},
     "output_type": "execute_result"
    }
   ],
   "source": [
    "grid=np.random.rand(2,3)\n",
    "grid"
   ]
  },
  {
   "cell_type": "code",
   "execution_count": 108,
   "metadata": {},
   "outputs": [
    {
     "data": {
      "text/plain": [
       "array([[0.08074127, 0.7384403 , 0.44130922, 0.08074127, 0.7384403 ,\n",
       "        0.44130922],\n",
       "       [0.15830987, 0.87993703, 0.27408646, 0.15830987, 0.87993703,\n",
       "        0.27408646]])"
      ]
     },
     "execution_count": 108,
     "metadata": {},
     "output_type": "execute_result"
    }
   ],
   "source": [
    "np.concatenate((grid,grid), axis =1)"
   ]
  },
  {
   "cell_type": "code",
   "execution_count": null,
   "metadata": {},
   "outputs": [],
   "source": []
  }
 ],
 "metadata": {
  "colab": {
   "collapsed_sections": [],
   "name": "Bài làm thêm 1 - Numpy-HV.ipynb",
   "provenance": []
  },
  "kernelspec": {
   "display_name": "Python 3",
   "language": "python",
   "name": "python3"
  },
  "language_info": {
   "codemirror_mode": {
    "name": "ipython",
    "version": 3
   },
   "file_extension": ".py",
   "mimetype": "text/x-python",
   "name": "python",
   "nbconvert_exporter": "python",
   "pygments_lexer": "ipython3",
   "version": "3.7.10"
  }
 },
 "nbformat": 4,
 "nbformat_minor": 1
}
